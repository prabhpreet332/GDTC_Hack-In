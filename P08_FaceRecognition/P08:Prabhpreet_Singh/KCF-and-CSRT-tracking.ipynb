{
 "cells": [
  {
   "cell_type": "code",
   "execution_count": 11,
   "metadata": {},
   "outputs": [],
   "source": [
    "import cv2\n",
    "import numpy as np\n",
    "import sys"
   ]
  },
  {
   "cell_type": "markdown",
   "metadata": {},
   "source": [
    "## KCF Tracker"
   ]
  },
  {
   "cell_type": "code",
   "execution_count": 22,
   "metadata": {},
   "outputs": [],
   "source": [
    "tracker = cv2.TrackerKCF_create()\n",
    "\n",
    "video = cv2.VideoCapture(0)\n",
    "\n",
    "ret, frame = video.read()\n",
    "\n",
    "frame_width = np.shape(frame)[1]\n",
    "frame_height = np.shape(frame)[0]\n",
    "\n",
    "if not ret:\n",
    "    print( 'Cannot read video file')\n",
    "    sys.exit(1)\n",
    "\n",
    "# bounding box\n",
    "x = 1\n",
    "# tracking_dimensions = (frame_height//2 - x,frame_width//2 -x,frame_height//2 + x, frame_width//2 + x)\n",
    "# bbox = tracking_dimensions#(287, 23, 86, 320)\n",
    "bbox = cv2.selectROI(frame, False)\n",
    "\n",
    "# initialising tracker with frame and bounding box\n",
    "oretk = tracker.init(frame, bbox)\n",
    "\n",
    "while True:\n",
    "    # Read a new frame\n",
    "    ret, frame = video.read()\n",
    "    if not ret:\n",
    "        break\n",
    "\n",
    "\n",
    "    # Update tracker\n",
    "    ret, bbox = tracker.update(frame)\n",
    "\n",
    "\n",
    "    # draw bounding box\n",
    "    if ret:\n",
    "        p1 = (int(bbox[0]), int(bbox[1]))\n",
    "        p2 = (int(bbox[0] + bbox[2]), int(bbox[1] + bbox[3]))\n",
    "        cv2.rectangle(frame, p1, p2, (0,255,0), 2, 1)\n",
    "   \n",
    "\n",
    "\n",
    "    # Display result\n",
    "    cv2.imshow(\"Tracking\", frame)\n",
    "\n",
    "    # Exit if ESC pressed\n",
    "    k = cv2.waitKey(1) & 0xff\n",
    "    if k == 27 : \n",
    "        print(\"esc key prssed\")\n",
    "        break\n",
    "\n",
    "\n",
    "\n",
    "video.release()\n",
    "cv2.destroyAllWindows()"
   ]
  },
  {
   "cell_type": "markdown",
   "metadata": {},
   "source": [
    "## CSRT Tracker"
   ]
  },
  {
   "cell_type": "code",
   "execution_count": 24,
   "metadata": {},
   "outputs": [
    {
     "name": "stdout",
     "output_type": "stream",
     "text": [
      "esc key prssed\n"
     ]
    }
   ],
   "source": [
    "tracker = cv2.TrackerCSRT_create()    \n",
    "    \n",
    "video = cv2.VideoCapture(0)\n",
    "\n",
    "ret, frame = video.read()\n",
    "\n",
    "frame_width = np.shape(frame)[1]\n",
    "frame_height = np.shape(frame)[0]\n",
    "\n",
    "if not ret:\n",
    "    print( 'Cannot read video file')\n",
    "    sys.exit(1)\n",
    "\n",
    "# bounding box\n",
    "x = 1\n",
    "# tracking_dimensions = (frame_height//2 - x,frame_width//2 -x,frame_height//2 + x, frame_width//2 + x)\n",
    "# bbox = tracking_dimensions#(287, 23, 86, 320)\n",
    "bbox = cv2.selectROI(frame, False)\n",
    "\n",
    "# initialising tracker with frame and bounding box\n",
    "oretk = tracker.init(frame, bbox)\n",
    "\n",
    "while True:\n",
    "    # Read a new frame\n",
    "    ret, frame = video.read()\n",
    "    if not ret:\n",
    "        break\n",
    "\n",
    "\n",
    "    # Update tracker\n",
    "    ret, bbox = tracker.update(frame)\n",
    "\n",
    "\n",
    "    # draw bounding box\n",
    "    if ret:\n",
    "        p1 = (int(bbox[0]), int(bbox[1]))\n",
    "        p2 = (int(bbox[0] + bbox[2]), int(bbox[1] + bbox[3]))\n",
    "        cv2.rectangle(frame, p1, p2, (0,255,0), 2, 1)\n",
    "   \n",
    "\n",
    "\n",
    "    # Display result\n",
    "    cv2.imshow(\"Tracking\", frame)\n",
    "\n",
    "    # Exit if ESC pressed\n",
    "    k = cv2.waitKey(1) & 0xff\n",
    "    if k == 27 : \n",
    "        print(\"esc key prssed\")\n",
    "        break\n",
    "\n",
    "\n",
    "\n",
    "\n",
    "video.release()\n",
    "cv2.destroyAllWindows()"
   ]
  },
  {
   "cell_type": "code",
   "execution_count": null,
   "metadata": {},
   "outputs": [],
   "source": []
  }
 ],
 "metadata": {
  "kernelspec": {
   "display_name": "Python [conda env:p09_gdtc] *",
   "language": "python",
   "name": "conda-env-p09_gdtc-py"
  },
  "language_info": {
   "codemirror_mode": {
    "name": "ipython",
    "version": 3
   },
   "file_extension": ".py",
   "mimetype": "text/x-python",
   "name": "python",
   "nbconvert_exporter": "python",
   "pygments_lexer": "ipython3",
   "version": "3.7.3"
  }
 },
 "nbformat": 4,
 "nbformat_minor": 2
}
