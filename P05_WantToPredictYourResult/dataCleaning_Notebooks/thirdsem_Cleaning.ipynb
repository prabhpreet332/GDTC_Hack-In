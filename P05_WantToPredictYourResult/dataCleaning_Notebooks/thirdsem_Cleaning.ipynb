{
 "cells": [
  {
   "cell_type": "code",
   "execution_count": 2,
   "metadata": {},
   "outputs": [],
   "source": [
    "import re\n",
    "import pandas as pd\n",
    "import PyPDF2\n",
    "import csv"
   ]
  },
  {
   "cell_type": "code",
   "execution_count": 3,
   "metadata": {},
   "outputs": [
    {
     "name": "stdout",
     "output_type": "stream",
     "text": [
      "360\n"
     ]
    }
   ],
   "source": [
    "#Extract text from the pdf first\n",
    "pdfFileObj = open('pdfs/third_sem.pdf', 'rb')\n",
    "pdfReader = PyPDF2.PdfFileReader(pdfFileObj)  \n",
    "print(pdfReader.numPages) \n",
    "pageData = []\n",
    "for i in range(1,360):\n",
    "    pageObj = pdfReader.getPage(i)\n",
    "    pageData.append(pageObj.extractText())"
   ]
  },
  {
   "cell_type": "code",
   "execution_count": 4,
   "metadata": {},
   "outputs": [],
   "source": [
    "#We are going to now filter out the needed data using regular expression\n",
    "#Whole of the expression is constructed in one go very easily, I would suggest the reader to go through the re usage first\n",
    "pageDataCleaned = []\n",
    "for pg in pageData:\n",
    "    pageDataCleaned.append(re.findall(r'\\d+\\n\\n.*\\n\\nSID: \\d+\\n\\nSchemeID: \\d+\\n99201.4.\\n.*\\n.*\\n27203.4.\\n.*\\n.*\\n28205.4.\\n.*\\n.*\\n49207.4.\\n.*\\n.*\\n27209.4.\\n.*\\n.*\\n27211.4.\\n.*\\n.*\\n28253.1.\\n.*\\n.*\\n27255.1.\\n.*\\n.*\\n27257.1.\\n.*\\n.*\\n49257.1.\\n.*\\n.*\\n.*\\n',pg))"
   ]
  },
  {
   "cell_type": "code",
   "execution_count": 5,
   "metadata": {},
   "outputs": [],
   "source": [
    "data_raw = []\n",
    "#Replacing the '\\n' character being visible due to usage of raw string in regular expression\n",
    "for pg in pageDataCleaned:\n",
    "    for p in pg:\n",
    "        newP = p.replace('\\n',',')\n",
    "        data_raw.append(newP)"
   ]
  },
  {
   "cell_type": "code",
   "execution_count": 6,
   "metadata": {},
   "outputs": [],
   "source": [
    "student = data_raw[0].split(',')\n",
    "z = student[1]\n",
    "student = [m for m in student if m!=z]"
   ]
  },
  {
   "cell_type": "code",
   "execution_count": 7,
   "metadata": {},
   "outputs": [],
   "source": [
    "final_student_data = []\n",
    "for dr in data_raw:\n",
    "    dummy_student = dr.split(\",\")\n",
    "    dummy_student = [ds for ds in dummy_student if ds != \"\"] #Helps remove all of the empty elements of the list\n",
    "    final_student_data.append(dummy_student)\n",
    "#To sort out this data more we are going to divide this data into subjects along as internal and external marks\n",
    "#We directly know what indexes we have to fix\n",
    "index_subjects = [5,8,11,14,17,20,23,26,29,32]"
   ]
  },
  {
   "cell_type": "code",
   "execution_count": 8,
   "metadata": {},
   "outputs": [],
   "source": [
    "marks_cleaned_students = []\n",
    "for fsd in final_student_data:\n",
    "    mcs = fsd[:4]\n",
    "    for i in range(4,35):\n",
    "        if i in index_subjects:\n",
    "            temp_marks = fsd[i].split(\" \")\n",
    "            temp_marks = [t for t in temp_marks if t!= \"\"]\n",
    "            mcs.append(temp_marks[0])\n",
    "            mcs.append(temp_marks[1])\n",
    "        else:\n",
    "            mcs.append(fsd[i])\n",
    "    marks_cleaned_students.append(mcs)"
   ]
  },
  {
   "cell_type": "code",
   "execution_count": 9,
   "metadata": {},
   "outputs": [
    {
     "name": "stdout",
     "output_type": "stream",
     "text": [
      "1811\n"
     ]
    }
   ],
   "source": [
    "len(marks_cleaned_students[0])\n",
    "print(len(marks_cleaned_students)) #Removed Vipul Rinwa"
   ]
  },
  {
   "cell_type": "code",
   "execution_count": 10,
   "metadata": {},
   "outputs": [],
   "source": [
    "marks_cleaned_students[0]\n",
    "#All of the codes indicate certain subjects so let's link them first\n",
    "subject_codes = {'99201(4)' : 'AM-3', '27203(4)': 'FCS','28205(4)':'STLD','49207(4)':'CS','27209(4)':'DS','27211(4)':'CGM','28253(1)':'STLD LAB','27255(1)':'DS LAB','27257(1)':'CGM LAB','49257(1)':'CS LAB'}"
   ]
  },
  {
   "cell_type": "code",
   "execution_count": 11,
   "metadata": {},
   "outputs": [
    {
     "data": {
      "text/plain": [
       "['00210102717',\n",
       " 'ABHISHEK KUMAR VERMA',\n",
       " 'SID: 190000099691',\n",
       " 'SchemeID: 190272016001',\n",
       " '99201(4)',\n",
       " '20',\n",
       " '57',\n",
       " '77(A+)',\n",
       " '27203(4)',\n",
       " '22',\n",
       " '52',\n",
       " '74(A)',\n",
       " '28205(4)',\n",
       " '25',\n",
       " '63',\n",
       " '88(A+)',\n",
       " '49207(4)',\n",
       " '23',\n",
       " '75',\n",
       " '98(O)',\n",
       " '27209(4)',\n",
       " '23',\n",
       " '46',\n",
       " '69(A)',\n",
       " '27211(4)',\n",
       " '22',\n",
       " '61',\n",
       " '83(A+)',\n",
       " '28253(1)',\n",
       " '39',\n",
       " '57',\n",
       " '96(O)',\n",
       " '27255(1)',\n",
       " '36',\n",
       " '55',\n",
       " '91(O)',\n",
       " '27257(1)',\n",
       " '35',\n",
       " '51',\n",
       " '86(A+)',\n",
       " '49257(1)',\n",
       " '36',\n",
       " '55',\n",
       " '91(O)',\n",
       " ' 28 ']"
      ]
     },
     "execution_count": 11,
     "metadata": {},
     "output_type": "execute_result"
    }
   ],
   "source": [
    "marks_cleaned_students[0]\n",
    "column_headers = ['EnrollMent No','Student Name','SID','Scheme ID']\n",
    "for key,values in subject_codes.items():\n",
    "    column_headers.append(values+\" Internal\")\n",
    "    column_headers.append(values+\" External\")\n",
    "    column_headers.append(values+\" Total\")\n",
    "# column_headers\n",
    "column_headers.append(\"Total Credits\")\n",
    "marks_cleaned_students[0]"
   ]
  },
  {
   "cell_type": "code",
   "execution_count": 12,
   "metadata": {},
   "outputs": [],
   "source": [
    "with open(\"third_sem_ipu_complete.csv\",\"a+\",newline=\"\") as csvfile:\n",
    "    filewriter = csv.writer(csvfile, delimiter=',',quotechar='|', quoting=csv.QUOTE_MINIMAL)\n",
    "    filewriter.writerow(column_headers)"
   ]
  },
  {
   "cell_type": "code",
   "execution_count": 48,
   "metadata": {},
   "outputs": [
    {
     "name": "stdout",
     "output_type": "stream",
     "text": [
      "['99201(4)', '27203(4)', '28205(4)', '49207(4)', '27209(4)', '27211(4)', '28253(1)', '27255(1)', '27257(1)', '49257(1)']\n"
     ]
    }
   ],
   "source": [
    "subject_codes = [key for key in subject_codes]\n",
    "print(subject_codes)"
   ]
  },
  {
   "cell_type": "code",
   "execution_count": 50,
   "metadata": {},
   "outputs": [],
   "source": [
    "with open(\"third_sem_ipu_complete.csv\",\"a+\",newline=\"\") as csvfile:\n",
    "    filewriter = csv.writer(csvfile, delimiter=',',quotechar='|', quoting=csv.QUOTE_MINIMAL)\n",
    "    for mcs in marks_cleaned_students:\n",
    "        temp_row = []\n",
    "        for s in mcs:\n",
    "            if s not in subject_codes:\n",
    "                temp_row.append(s)\n",
    "            else:\n",
    "                pass\n",
    "        filewriter.writerow(temp_row)"
   ]
  },
  {
   "cell_type": "code",
   "execution_count": 93,
   "metadata": {},
   "outputs": [],
   "source": []
  },
  {
   "cell_type": "code",
   "execution_count": null,
   "metadata": {},
   "outputs": [],
   "source": []
  }
 ],
 "metadata": {
  "kernelspec": {
   "display_name": "Python 3",
   "language": "python",
   "name": "python3"
  },
  "language_info": {
   "codemirror_mode": {
    "name": "ipython",
    "version": 3
   },
   "file_extension": ".py",
   "mimetype": "text/x-python",
   "name": "python",
   "nbconvert_exporter": "python",
   "pygments_lexer": "ipython3",
   "version": "3.7.3"
  }
 },
 "nbformat": 4,
 "nbformat_minor": 2
}
