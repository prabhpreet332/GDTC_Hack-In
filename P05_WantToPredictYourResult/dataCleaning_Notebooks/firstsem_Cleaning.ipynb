{
 "cells": [
  {
   "cell_type": "code",
   "execution_count": 63,
   "metadata": {},
   "outputs": [],
   "source": [
    "import re\n",
    "import pandas as pd\n",
    "import PyPDF2\n",
    "import csv"
   ]
  },
  {
   "cell_type": "code",
   "execution_count": 64,
   "metadata": {},
   "outputs": [
    {
     "name": "stdout",
     "output_type": "stream",
     "text": [
      "280\n"
     ]
    }
   ],
   "source": [
    "#Extract text from the pdf first\n",
    "pdfFileObj = open('pdfs/first_sem.pdf', 'rb')\n",
    "pdfReader = PyPDF2.PdfFileReader(pdfFileObj)  \n",
    "print(pdfReader.numPages) \n",
    "pageData = []\n",
    "for i in range(0,280):\n",
    "    pageObj = pdfReader.getPage(i)\n",
    "    pageData.append(pageObj.extractText())"
   ]
  },
  {
   "cell_type": "code",
   "execution_count": 65,
   "metadata": {},
   "outputs": [
    {
     "data": {
      "text/plain": [
       "'ES\\nCOMPULSORY\\nMANDATORY\\n 25 \\n 75 \\n 100 \\n 40 \\n04\\n49107\\nETEE107\\nELECTRICAL TECHNOLOGY\\n 3 \\nTHEORY\\nUES\\nCOMPULSORY\\nMANDATORY\\n 25 \\n 75 \\n 100 \\n 40 \\n05\\n98109\\nETHS109\\nHUMAN VALUES AND PROFESSIONAL ETHICS-I\\n 1 \\nTHEORY\\nNUES\\nCOMPULSORY\\nDROPPABLE\\n--\\n 100 \\n 100 \\n 40 \\n06\\n27111\\nETCS111\\nFUNDAMENTALS OF COMPUTING\\n 2 \\nTHEORY\\nUES\\nCOMPULSORY\\nDROPPABLE\\n 25 \\n 75 \\n 100 \\n 40 \\n07\\n99113\\nETCH113\\nAPPLIED CHEMISTRY\\n 3 \\nTHEORY\\nUES\\nCOMPULSORY\\nMANDATORY\\n 25 \\n 75 \\n 100 \\n 40 \\n08\\n99151\\nETPH151\\nAPPLIED PHYSICS LAB-I\\n 1 \\nPRACTICAL\\nUES\\nCOMPULSORY\\nDROPPABLE\\n 40 \\n 60 \\n 100 \\n 40 \\n09\\n49153\\nETEE153\\nELECTRICAL TECHNOLOGY LAB\\n 1 \\nPRACTICAL\\nUES\\nCOMPULSORY\\nMANDATORY\\n 40 \\n 60 \\n 100 \\n 40 \\n10\\n36155\\nETME155\\nWORKSHOP PRACTICE\\n 2 \\nPRACTICAL\\nUES\\nCOMPULSORY\\nMANDATORY\\n 40 \\n 60 \\n 100 \\n 40 \\n11\\n27157\\nETCS157\\nFUNDAMENTALS OF COMP'"
      ]
     },
     "execution_count": 65,
     "metadata": {},
     "output_type": "execute_result"
    }
   ],
   "source": [
    "pageData[0][720:1500]"
   ]
  },
  {
   "cell_type": "code",
   "execution_count": 66,
   "metadata": {},
   "outputs": [],
   "source": [
    "#We are going to now filter out the needed data using regular expression\n",
    "#Whole of the expression is constructed in one go very easily, I would suggest the reader to go through the re usage first\n",
    "pageDataCleaned = []\n",
    "for pg in pageData:\n",
    "    pageDataCleaned.append(re.findall(r'\\d+\\n\\n.*\\n\\nSID: \\d+\\n\\nSchemeID: \\d+\\n99101.4.\\n.*\\n.*\\n99103.3.\\n.*\\n.*\\n36105.3.\\n.*\\n.*\\n49107.3.\\n.*\\n.*\\n98109.1.\\n.*\\n.*\\n27111.2.\\n.*\\n.*\\n99113.3.\\n.*\\n.*\\n99151.1.\\n.*\\n.*\\n49153.1.\\n.*\\n.*\\n36155.2.\\n.*\\n.*\\n27157.1.\\n.*\\n.*\\n36157.2.\\n.*\\n.*\\n99161.1.\\n.*\\n.*\\n.*\\n',pg))"
   ]
  },
  {
   "cell_type": "code",
   "execution_count": 67,
   "metadata": {},
   "outputs": [],
   "source": [
    "data_raw = []\n",
    "#Replacing the '\\n' character being visible due to usage of raw string in regular expression\n",
    "for pg in pageDataCleaned:\n",
    "    for p in pg:\n",
    "        newP = p.replace('\\n',',')\n",
    "        data_raw.append(newP)"
   ]
  },
  {
   "cell_type": "code",
   "execution_count": 68,
   "metadata": {},
   "outputs": [],
   "source": [
    "student = data_raw[0].split(',')\n",
    "z = student[1]\n",
    "student = [m for m in student if m!=z]"
   ]
  },
  {
   "cell_type": "code",
   "execution_count": 69,
   "metadata": {},
   "outputs": [],
   "source": [
    "student = data_raw[0].split(',')\n",
    "z = student[1]\n",
    "student = [m for m in student if m!=z]\n",
    "# for d in data_raw:\n",
    "#     print(d)"
   ]
  },
  {
   "cell_type": "code",
   "execution_count": 70,
   "metadata": {},
   "outputs": [],
   "source": [
    "final_student_data = []\n",
    "for dr in data_raw:\n",
    "    dummy_student = dr.split(\",\")\n",
    "    dummy_student = [ds for ds in dummy_student if ds != \"\"] #Helps remove all of the empty elements of the list\n",
    "    final_student_data.append(dummy_student)\n",
    "#To sort out this data more we are going to divide this data into subjects along as internal and external marks\n",
    "#We directly know what indexes we have to fix\n",
    "index_subjects = [5,8,11,14,17,20,23,26,29,32,35,38,41]"
   ]
  },
  {
   "cell_type": "code",
   "execution_count": 71,
   "metadata": {},
   "outputs": [],
   "source": [
    "marks_cleaned_students = []\n",
    "for fsd in final_student_data:\n",
    "    mcs = fsd[:4]\n",
    "    for i in range(4,44):\n",
    "        if i in index_subjects:\n",
    "            temp_marks = fsd[i].split(\" \")\n",
    "            temp_marks = [t for t in temp_marks if t!= \"\"]\n",
    "            mcs.append(temp_marks[0])\n",
    "            mcs.append(temp_marks[1])\n",
    "        else:\n",
    "            mcs.append(fsd[i])\n",
    "    marks_cleaned_students.append(mcs)"
   ]
  },
  {
   "cell_type": "code",
   "execution_count": 72,
   "metadata": {},
   "outputs": [
    {
     "name": "stdout",
     "output_type": "stream",
     "text": [
      "1653\n"
     ]
    }
   ],
   "source": [
    "len(marks_cleaned_students[0])\n",
    "print(len(marks_cleaned_students))"
   ]
  },
  {
   "cell_type": "code",
   "execution_count": 73,
   "metadata": {},
   "outputs": [],
   "source": [
    "#All of the codes indicate certain subjects so let's link them first\n",
    "subject_codes = {'99101(4)' : 'AM-1', '99103(3)': 'AP-1','36105(3)':'MP','49107(3)':'ET','98109(1)':'HVPE','27111(2)':'FOC','99113(3)':'AC','99151(1)':'AP-1 LAB','49153(1)':'ET LAB','36155(2)':'MP LAB','27157(1)':'FOC LAB','36157(2)':'ED LAB','99161(1)':'AC LAB'}"
   ]
  },
  {
   "cell_type": "code",
   "execution_count": 74,
   "metadata": {},
   "outputs": [
    {
     "data": {
      "text/plain": [
       "['00110102717',\n",
       " 'ABHISHEK',\n",
       " 'SID: 190000099690',\n",
       " 'SchemeID: 190272015001',\n",
       " '99101(4)',\n",
       " '17',\n",
       " '35',\n",
       " '52(B)',\n",
       " '99103(3)',\n",
       " '24',\n",
       " '50',\n",
       " '74(A)',\n",
       " '36105(3)',\n",
       " '25',\n",
       " '30',\n",
       " '55(B+)',\n",
       " '49107(3)',\n",
       " '22',\n",
       " '36',\n",
       " '58(B+)',\n",
       " '98109(1)',\n",
       " '-',\n",
       " '90',\n",
       " '90(O)',\n",
       " '27111(2)',\n",
       " '19',\n",
       " '51',\n",
       " '70(A)',\n",
       " '99113(3)',\n",
       " '23',\n",
       " '50',\n",
       " '73(A)',\n",
       " '99151(1)',\n",
       " '38',\n",
       " '56',\n",
       " '94(O)',\n",
       " '49153(1)',\n",
       " '35',\n",
       " '53',\n",
       " '88(A+)',\n",
       " '36155(2)',\n",
       " '36',\n",
       " '40',\n",
       " '76(A+)',\n",
       " '27157(1)',\n",
       " '36',\n",
       " '45',\n",
       " '81(A+)',\n",
       " '36157(2)',\n",
       " '30',\n",
       " '45',\n",
       " '75(A+)',\n",
       " '99161(1)',\n",
       " '37',\n",
       " '56',\n",
       " '93(O)',\n",
       " ' 27 ']"
      ]
     },
     "execution_count": 74,
     "metadata": {},
     "output_type": "execute_result"
    }
   ],
   "source": [
    "marks_cleaned_students[0]\n",
    "column_headers = ['EnrollMent No','Student Name','SID','Scheme ID']\n",
    "for key,values in subject_codes.items():\n",
    "    column_headers.append(values+\" Internal\")\n",
    "    column_headers.append(values+\" External\")\n",
    "    column_headers.append(values+\" Total\")\n",
    "# column_headers\n",
    "column_headers.append(\"Total Credits\")\n",
    "marks_cleaned_students[0]"
   ]
  },
  {
   "cell_type": "code",
   "execution_count": 75,
   "metadata": {},
   "outputs": [],
   "source": [
    "with open(\"assets/data/first_sem_ipu_complete.csv\",\"a+\",newline=\"\") as csvfile:\n",
    "    filewriter = csv.writer(csvfile, delimiter=',',quotechar='|', quoting=csv.QUOTE_MINIMAL)\n",
    "    filewriter.writerow(column_headers)"
   ]
  },
  {
   "cell_type": "code",
   "execution_count": 76,
   "metadata": {},
   "outputs": [
    {
     "name": "stdout",
     "output_type": "stream",
     "text": [
      "['99101(4)', '99103(3)', '36105(3)', '49107(3)', '98109(1)', '27111(2)', '99113(3)', '99151(1)', '49153(1)', '36155(2)', '27157(1)', '36157(2)', '99161(1)']\n"
     ]
    }
   ],
   "source": [
    "subject_codes = [key for key in subject_codes]\n",
    "print(subject_codes)"
   ]
  },
  {
   "cell_type": "code",
   "execution_count": 77,
   "metadata": {},
   "outputs": [],
   "source": [
    "with open(\"assets/data/first_sem_ipu_complete.csv\",\"a+\",newline=\"\") as csvfile:\n",
    "    filewriter = csv.writer(csvfile, delimiter=',',quotechar='|', quoting=csv.QUOTE_MINIMAL)\n",
    "    for mcs in marks_cleaned_students:\n",
    "        temp_row = []\n",
    "        for s in mcs:\n",
    "            if s not in subject_codes:\n",
    "                temp_row.append(s)\n",
    "            else:\n",
    "                pass\n",
    "        filewriter.writerow(temp_row)"
   ]
  },
  {
   "cell_type": "code",
   "execution_count": null,
   "metadata": {},
   "outputs": [],
   "source": []
  },
  {
   "cell_type": "code",
   "execution_count": null,
   "metadata": {},
   "outputs": [],
   "source": []
  },
  {
   "cell_type": "code",
   "execution_count": null,
   "metadata": {},
   "outputs": [],
   "source": []
  }
 ],
 "metadata": {
  "kernelspec": {
   "display_name": "Python 3",
   "language": "python",
   "name": "python3"
  },
  "language_info": {
   "codemirror_mode": {
    "name": "ipython",
    "version": 3
   },
   "file_extension": ".py",
   "mimetype": "text/x-python",
   "name": "python",
   "nbconvert_exporter": "python",
   "pygments_lexer": "ipython3",
   "version": "3.7.3"
  }
 },
 "nbformat": 4,
 "nbformat_minor": 2
}
