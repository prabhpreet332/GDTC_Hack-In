{
 "cells": [
  {
   "cell_type": "code",
   "execution_count": 9,
   "metadata": {},
   "outputs": [],
   "source": [
    "import urllib.request\n",
    "from urllib import error\n",
    "import cv2\n",
    "import numpy as np\n",
    "\n",
    "url = 'http://192.168.1.4:8080/shot.jpg'\n",
    "\n",
    "# plt.figure(figsize=(18,8))\n",
    "\n",
    "while True:\n",
    "    try:\n",
    "        imgResp = urllib.request.urlopen(url)\n",
    "    except urllib.error as error:\n",
    "        print(error)\n",
    "        break\n",
    "    \n",
    "#     print(\"hello\")\n",
    "    imgNp = np.array(bytearray(imgResp.read()), dtype=np.uint8)\n",
    "    \n",
    "    img = cv2.imdecode(imgNp, cv2.IMREAD_COLOR)  # np.fromstring(jpg, dtype=np.uint8)\n",
    "    if img is None:\n",
    "        print(\"Image is of type None\")\n",
    "        break\n",
    "    image_rescaled = cv2.resize(img,(600,400))\n",
    "    \n",
    "    cv2.imshow('Live Feed from Phone',image_rescaled)\n",
    "    \n",
    "    q = cv2.waitKey(1)\n",
    "    if q == ord(\"q\"):\n",
    "        break;\n",
    "    \n",
    "\n",
    "cv2.destroyAllWindows()\n"
   ]
  },
  {
   "cell_type": "code",
   "execution_count": null,
   "metadata": {},
   "outputs": [],
   "source": []
  },
  {
   "cell_type": "code",
   "execution_count": null,
   "metadata": {},
   "outputs": [],
   "source": []
  }
 ],
 "metadata": {
  "kernelspec": {
   "display_name": "Python [conda env:p09_gdtc] *",
   "language": "python",
   "name": "conda-env-p09_gdtc-py"
  },
  "language_info": {
   "codemirror_mode": {
    "name": "ipython",
    "version": 3
   },
   "file_extension": ".py",
   "mimetype": "text/x-python",
   "name": "python",
   "nbconvert_exporter": "python",
   "pygments_lexer": "ipython3",
   "version": "3.7.3"
  }
 },
 "nbformat": 4,
 "nbformat_minor": 2
}
