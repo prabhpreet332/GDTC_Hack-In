{
 "cells": [
  {
   "cell_type": "code",
   "execution_count": 1,
   "metadata": {},
   "outputs": [],
   "source": [
    "import cv2\n",
    "import numpy as np"
   ]
  },
  {
   "cell_type": "code",
   "execution_count": 2,
   "metadata": {},
   "outputs": [],
   "source": [
    "cap = cv2.VideoCapture(0)\n",
    "\n",
    "count = 0\n",
    "background = 0\n",
    "\n",
    "#store background shot\n",
    "for i in range(10):\n",
    "    ret,background = cap.read()\n",
    "    background = cv2.resize(background,(960,840))\n",
    "\n",
    "while True:\n",
    "    ret, img = cap.read()\n",
    "    if not ret:\n",
    "        break\n",
    "    count+=1\n",
    "    img = cv2.resize(img,(960,840))\n",
    "\n",
    "    # color space conversion bgr -> hsv\n",
    "    hsv = cv2.cvtColor(img, cv2.COLOR_BGR2HSV)\n",
    "\n",
    "    # mask to detect red color\n",
    "    redMin = np.array([0,120,70])\n",
    "    redMax = np.array([10,255,255])\n",
    "    mask1 = cv2.inRange(hsv,redMin, redMax)\n",
    "\n",
    "    redMin = np.array([170,120,70])\n",
    "    redMax = np.array([180,255,255])\n",
    "    mask2 = cv2.inRange(hsv,redMin, redMax)\n",
    "\n",
    "    mask1 = mask1+mask2\n",
    "\n",
    "    # removing noise \n",
    "    mask1 = cv2.morphologyEx(mask1, cv2.MORPH_OPEN, np.ones((3,3),np.uint8),iterations=2)\n",
    "    mask1 = cv2.dilate(mask1,np.ones((3,3),np.uint8),iterations = 1)\n",
    "    mask2 = cv2.bitwise_not(mask1)\n",
    "\n",
    "    # background AND ing gives final image\n",
    "    res1 = cv2.bitwise_and(background,background,mask=mask1)\n",
    "    res2 = cv2.bitwise_and(img,img,mask=mask2)\n",
    "    final_output = cv2.addWeighted(res1,1,res2,1,0)\n",
    "\n",
    "    cv2.imshow('Magic !!!',final_output)\n",
    "    # esc to exit\n",
    "    k = cv2.waitKey(1)\n",
    "    if k == 27:\n",
    "        break\n",
    "\n",
    "cap.release()\n",
    "cv2.destroyAllWindows()\n",
    "\n"
   ]
  },
  {
   "cell_type": "code",
   "execution_count": null,
   "metadata": {},
   "outputs": [],
   "source": []
  }
 ],
 "metadata": {
  "kernelspec": {
   "display_name": "Python [conda env:p09_gdtc] *",
   "language": "python",
   "name": "conda-env-p09_gdtc-py"
  },
  "language_info": {
   "codemirror_mode": {
    "name": "ipython",
    "version": 3
   },
   "file_extension": ".py",
   "mimetype": "text/x-python",
   "name": "python",
   "nbconvert_exporter": "python",
   "pygments_lexer": "ipython3",
   "version": "3.7.3"
  }
 },
 "nbformat": 4,
 "nbformat_minor": 2
}
